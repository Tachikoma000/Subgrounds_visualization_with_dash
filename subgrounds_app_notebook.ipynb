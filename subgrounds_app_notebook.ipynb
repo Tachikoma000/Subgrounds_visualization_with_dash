{
 "cells": [
  {
   "cell_type": "markdown",
   "metadata": {
    "collapsed": true,
    "pycharm": {
     "name": "#%% md\n"
    }
   },
   "source": [
    "## Import required libraries for Subgrounds interface"
   ]
  },
  {
   "cell_type": "code",
   "execution_count": 58,
   "outputs": [],
   "source": [
    "# Install all required libraries for the subgrounds layer\n",
    "from datetime import datetime\n",
    "from subgrounds.subgraph import SyntheticField, FieldPath\n",
    "from subgrounds.subgrounds import Subgrounds"
   ],
   "metadata": {
    "collapsed": false,
    "pycharm": {
     "name": "#%%\n"
    }
   }
  },
  {
   "cell_type": "markdown",
   "source": [
    "## Create an instance of subgrounds and connect to the subgraph api of choice (in this case, klimaDAO Subgraph)"
   ],
   "metadata": {
    "collapsed": false,
    "pycharm": {
     "name": "#%% md\n"
    }
   }
  },
  {
   "cell_type": "code",
   "execution_count": 59,
   "outputs": [],
   "source": [
    "# instantiate subgrounds\n",
    "sg = Subgrounds()\n",
    "# connect to the klimaDAO subgraph API\n",
    "klimaDAO = sg.load_subgraph('https://api.thegraph.com/subgraphs/name/cujowolf/klima-graph')"
   ],
   "metadata": {
    "collapsed": false,
    "pycharm": {
     "name": "#%%\n"
    }
   }
  },
  {
   "cell_type": "markdown",
   "source": [
    "## In this section, we construct the subgrounds synthetic fields and secondary transformations that we need for our dashboard"
   ],
   "metadata": {
    "collapsed": false,
    "pycharm": {
     "name": "#%% md\n"
    }
   }
  },
  {
   "cell_type": "code",
   "execution_count": 60,
   "outputs": [],
   "source": [
    "# Define useful synthetic fields: Time stamp field to help with time series data analytics\n",
    "klimaDAO.ProtocolMetric.datetime = SyntheticField(\n",
    "  lambda timestamp: str(datetime.fromtimestamp(timestamp)),\n",
    "  SyntheticField.STRING,\n",
    "  klimaDAO.ProtocolMetric.timestamp,\n",
    ")"
   ],
   "metadata": {
    "collapsed": false,
    "pycharm": {
     "name": "#%%\n"
    }
   }
  },
  {
   "cell_type": "code",
   "execution_count": 61,
   "outputs": [],
   "source": [
    "# Define useful synthetic fields: Calculated metrics - sKlima Circulating supply percentage\n",
    "klimaDAO.ProtocolMetric.staked_supply_percent = SyntheticField(\n",
    "  lambda sklima_supply, total_supply: 100 * sklima_supply / total_supply,\n",
    "  SyntheticField.FLOAT,\n",
    "  [\n",
    "    klimaDAO.ProtocolMetric.sKlimaCirculatingSupply,\n",
    "    klimaDAO.ProtocolMetric.totalSupply\n",
    "  ],\n",
    "  default=100.0\n",
    ")"
   ],
   "metadata": {
    "collapsed": false,
    "pycharm": {
     "name": "#%%\n"
    }
   }
  },
  {
   "cell_type": "code",
   "execution_count": 62,
   "outputs": [],
   "source": [
    "# Use the sKlima Circ supply to generate a new variable for unstaked sKlima Circ supply\n",
    "klimaDAO.ProtocolMetric.unstaked_supply_percent = 100 - klimaDAO.ProtocolMetric.staked_supply_percent\n",
    "\n",
    "\n",
    "# Define useful synthetic fields: Treasury RFV per klima and ratio\n",
    "klimaDAO.ProtocolMetric.rfv_per_klima = SyntheticField(\n",
    "  lambda treasury_rfv, total_supply: treasury_rfv / total_supply if treasury_rfv / total_supply > 1 else 0,\n",
    "  SyntheticField.FLOAT,\n",
    "  [\n",
    "    klimaDAO.ProtocolMetric.treasuryRiskFreeValue,\n",
    "    klimaDAO.ProtocolMetric.totalSupply\n",
    "  ]\n",
    ")"
   ],
   "metadata": {
    "collapsed": false,
    "pycharm": {
     "name": "#%%\n"
    }
   }
  },
  {
   "cell_type": "code",
   "execution_count": 63,
   "outputs": [],
   "source": [
    "# Use the rfv_per_klima synthetic field to generate a price_rfv_ratio metric\n",
    "klimaDAO.ProtocolMetric.price_rfv_ratio = \\\n",
    "    100 * klimaDAO.ProtocolMetric.klimaPrice / klimaDAO.ProtocolMetric.rfv_per_klima\n",
    "\n",
    "# Use the rfv_per_klima synthetic field to generate a Treasury market value per klima and tmv ratio\n",
    "klimaDAO.ProtocolMetric.tmv_per_klima = \\\n",
    "    klimaDAO.ProtocolMetric.treasuryMarketValue / klimaDAO.ProtocolMetric.totalSupply\n",
    "klimaDAO.ProtocolMetric.price_tmv_ratio = \\\n",
    "    100 * klimaDAO.ProtocolMetric.klimaPrice / klimaDAO.ProtocolMetric.tmv_per_klima"
   ],
   "metadata": {
    "collapsed": false,
    "pycharm": {
     "name": "#%%\n"
    }
   }
  },
  {
   "cell_type": "markdown",
   "source": [
    "## In this section, we construct the subgrounds queries"
   ],
   "metadata": {
    "collapsed": false,
    "pycharm": {
     "name": "#%% md\n"
    }
   }
  },
  {
   "cell_type": "code",
   "execution_count": 64,
   "outputs": [],
   "source": [
    "# Create a function to pull immediate (latest) data points for any desired metrics you query\n",
    "def immediate(sg: Subgrounds, fpath: FieldPath):\n",
    "    data = sg.execute(sg.mk_request([fpath]))\n",
    "    return fpath.extract_data(data)[0]"
   ],
   "metadata": {
    "collapsed": false,
    "pycharm": {
     "name": "#%%\n"
    }
   }
  },
  {
   "cell_type": "code",
   "execution_count": 65,
   "outputs": [],
   "source": [
    "# The first query type will return the first 365 rows (days) of any field in the \"protocol metrics\" entity of the klima\n",
    "# Subgraph\n",
    "protocol_metrics_1year = klimaDAO.Query.protocolMetrics(\n",
    "  orderBy=klimaDAO.ProtocolMetric.timestamp,\n",
    "  orderDirection='desc',\n",
    "  first=365\n",
    ")"
   ],
   "metadata": {
    "collapsed": false,
    "pycharm": {
     "name": "#%%\n"
    }
   }
  },
  {
   "cell_type": "code",
   "execution_count": 66,
   "outputs": [],
   "source": [
    "# The first query type will return the latest row of any field in the \"protocol metrics\" entity of the klima\n",
    "# Subgraph. This is equivalent to immediate and can be used for counter type metrics or scenarios where charts\n",
    "# aren't convenient\n",
    "last_metric = klimaDAO.Query.protocolMetrics(\n",
    "  orderBy=klimaDAO.ProtocolMetric.timestamp,\n",
    "  orderDirection='desc',\n",
    "  first=1\n",
    ")"
   ],
   "metadata": {
    "collapsed": false,
    "pycharm": {
     "name": "#%%\n"
    }
   }
  },
  {
   "cell_type": "markdown",
   "source": [
    "## Now we are ready to interface our Subgrounds layer with the web app layer!"
   ],
   "metadata": {
    "collapsed": false,
    "pycharm": {
     "name": "#%% md\n"
    }
   }
  },
  {
   "cell_type": "markdown",
   "source": [
    "### Steps:\n",
    "- Import the Subgrounds fields and queries - Everything we created in the subgrounds layer\n",
    "- Import dash core components - Library of core dash components\n",
    "- Import dash bootstrap components - Library of standard bootstrap styling components for dash\n",
    "- Import dash plotly components - Library of data visualization components"
   ],
   "metadata": {
    "collapsed": false,
    "pycharm": {
     "name": "#%% md\n"
    }
   }
  },
  {
   "cell_type": "code",
   "execution_count": 67,
   "outputs": [],
   "source": [
    "import dash\n",
    "import dash_bootstrap_components as dbc  # pip install dash-bootstrap-components\n",
    "from dash import html\n",
    "from subgrounds.dash_wrappers import Graph\n",
    "from subgrounds.plotly_wrappers import Figure, Scatter, Bar, Figure\n",
    "from millify import millify"
   ],
   "metadata": {
    "collapsed": false,
    "pycharm": {
     "name": "#%%\n"
    }
   }
  },
  {
   "cell_type": "code",
   "execution_count": 68,
   "outputs": [
    {
     "data": {
      "text/plain": "<IPython.lib.display.IFrame at 0x127ebdbd0>",
      "text/html": "\n        <iframe\n            width=\"100%\"\n            height=\"650\"\n            src=\"http://127.0.0.1:8090/\"\n            frameborder=\"0\"\n            allowfullscreen\n            \n        ></iframe>\n        "
     },
     "metadata": {},
     "output_type": "display_data"
    }
   ],
   "source": [
    "from jupyter_dash import JupyterDash\n",
    "\n",
    "# Dashboard\n",
    "app = JupyterDash(__name__)\n",
    "\n",
    "app.layout = html.Div([\n",
    "  html.Div([\n",
    "    html.H4('Market Cap'),\n",
    "    html.Div([\n",
    "      # Subgrounds Graph Dash component\n",
    "      Graph(\n",
    "        # A Subgrounds Plotly figure\n",
    "        Figure(\n",
    "          subgrounds=sg,\n",
    "          traces=[\n",
    "            # Subgrounds Plotly traces\n",
    "            Scatter(\n",
    "              name='Market Cap',\n",
    "              x = protocol_metrics_1year.datetime,\n",
    "              y=protocol_metrics_1year.marketCap,\n",
    "              stackgroup='one',\n",
    "            )\n",
    "          ]\n",
    "        )\n",
    "      )\n",
    "    ])\n",
    "  ]),\n",
    "    html.H4(\n",
    "      millify(\n",
    "        immediate(sg, last_metric.klimaPrice),\n",
    "        precision=2\n",
    "      ),\n",
    "      style={'text-color': 'white'}\n",
    "    )\n",
    "])\n",
    "app.run_server(mode='inline', port = 8090, dev_tools_ui=True, #debug=True,\n",
    "              dev_tools_hot_reload =True, threaded=True)"
   ],
   "metadata": {
    "collapsed": false,
    "pycharm": {
     "name": "#%%\n"
    }
   }
  },
  {
   "cell_type": "markdown",
   "source": [
    "### Now let's build an app!"
   ],
   "metadata": {
    "collapsed": false,
    "pycharm": {
     "name": "#%% md\n"
    }
   }
  },
  {
   "cell_type": "markdown",
   "source": [
    "#### Steps\n",
    "- Create your Subgrounds layer in a separate py file: This is where you interface with the subgraph, create transformations and define your query types\n",
    "- Create your app file: This is where you construct your dashboard and insert into an app container\n"
   ],
   "metadata": {
    "collapsed": false,
    "pycharm": {
     "name": "#%% md\n"
    }
   }
  },
  {
   "cell_type": "markdown",
   "source": [
    "### Follow me!"
   ],
   "metadata": {
    "collapsed": false,
    "pycharm": {
     "name": "#%% md\n"
    }
   }
  },
  {
   "cell_type": "code",
   "execution_count": 68,
   "outputs": [],
   "source": [],
   "metadata": {
    "collapsed": false,
    "pycharm": {
     "name": "#%%\n"
    }
   }
  }
 ],
 "metadata": {
  "kernelspec": {
   "display_name": "Python 3",
   "language": "python",
   "name": "python3"
  },
  "language_info": {
   "codemirror_mode": {
    "name": "ipython",
    "version": 2
   },
   "file_extension": ".py",
   "mimetype": "text/x-python",
   "name": "python",
   "nbconvert_exporter": "python",
   "pygments_lexer": "ipython2",
   "version": "2.7.6"
  }
 },
 "nbformat": 4,
 "nbformat_minor": 0
}