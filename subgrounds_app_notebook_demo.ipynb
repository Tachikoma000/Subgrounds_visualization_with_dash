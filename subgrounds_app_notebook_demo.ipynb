{
 "cells": [
  {
   "cell_type": "markdown",
   "metadata": {
    "collapsed": true,
    "pycharm": {
     "name": "#%% md\n"
    }
   },
   "source": [
    "## Import required libraries for Subgrounds interface"
   ]
  },
  {
   "cell_type": "code",
   "execution_count": 1,
   "outputs": [],
   "source": [
    "# Install all required libraries for the subgrounds layer\n",
    "from datetime import datetime\n",
    "from subgrounds.subgraph import SyntheticField, FieldPath\n",
    "from subgrounds.subgrounds import Subgrounds"
   ],
   "metadata": {
    "collapsed": false,
    "pycharm": {
     "name": "#%%\n"
    }
   }
  },
  {
   "cell_type": "markdown",
   "source": [
    "## Create an instance of subgrounds and connect to the subgraph api of choice (in this case, klimaDAO Subgraph)"
   ],
   "metadata": {
    "collapsed": false,
    "pycharm": {
     "name": "#%% md\n"
    }
   }
  },
  {
   "cell_type": "code",
   "execution_count": 2,
   "outputs": [],
   "source": [
    "# instantiate subgrounds\n",
    "sg = Subgrounds()\n",
    "# connect to the klimaDAO subgraph API\n",
    "klimaDAO = sg.load_subgraph('https://api.thegraph.com/subgraphs/name/cujowolf/klima-graph')"
   ],
   "metadata": {
    "collapsed": false,
    "pycharm": {
     "name": "#%%\n"
    }
   }
  },
  {
   "cell_type": "markdown",
   "source": [
    "## In this section, we construct the subgrounds synthetic fields and secondary transformations that we need for our dashboard"
   ],
   "metadata": {
    "collapsed": false,
    "pycharm": {
     "name": "#%% md\n"
    }
   }
  },
  {
   "cell_type": "code",
   "execution_count": 4,
   "outputs": [],
   "source": [
    "klimaDAO.ProtocolMetric.datetime = SyntheticField(\n",
    "    lambda timestamp: str(datetime.fromtimestamp(timestamp)),\n",
    "    SyntheticField.STRING,\n",
    "    klimaDAO.ProtocolMetric.timestamp,\n",
    ")"
   ],
   "metadata": {
    "collapsed": false,
    "pycharm": {
     "name": "#%%\n"
    }
   }
  },
  {
   "cell_type": "code",
   "execution_count": 5,
   "outputs": [],
   "source": [
    "klimaDAO.ProtocolMetric.staked_supply_percent = SyntheticField(\n",
    "    lambda sklima_supply, total_supply: 100 * sklima_supply/total_supply,\n",
    "    SyntheticField.FLOAT,\n",
    "    [\n",
    "        klimaDAO.ProtocolMetric.sKlimaCirculatingSupply,\n",
    "        klimaDAO.ProtocolMetric.totalSupply\n",
    "    ],\n",
    "    default = 100.0\n",
    ")"
   ],
   "metadata": {
    "collapsed": false,
    "pycharm": {
     "name": "#%%\n"
    }
   }
  },
  {
   "cell_type": "code",
   "execution_count": 6,
   "outputs": [],
   "source": [
    "klimaDAO.ProtocolMetric.unstaked_supply_percent = 100 - klimaDAO.ProtocolMetric.staked_supply_percent"
   ],
   "metadata": {
    "collapsed": false,
    "pycharm": {
     "name": "#%%\n"
    }
   }
  },
  {
   "cell_type": "code",
   "execution_count": 8,
   "outputs": [],
   "source": [
    "klimaDAO.ProtocolMetric.rfv_per_klima = SyntheticField(\n",
    "    lambda treasury_rfv, total_supply: treasury_rfv / total_supply if treasury_rfv / total_supply > 1 else 0,\n",
    "    SyntheticField.FLOAT,\n",
    "    [\n",
    "        klimaDAO.ProtocolMetric.treasuryRiskFreeValue,\n",
    "        klimaDAO.ProtocolMetric.totalSupply\n",
    "    ]\n",
    ")\n"
   ],
   "metadata": {
    "collapsed": false,
    "pycharm": {
     "name": "#%%\n"
    }
   }
  },
  {
   "cell_type": "markdown",
   "source": [
    "## In this section, we construct the subgrounds queries"
   ],
   "metadata": {
    "collapsed": false,
    "pycharm": {
     "name": "#%% md\n"
    }
   }
  },
  {
   "cell_type": "code",
   "execution_count": 9,
   "outputs": [],
   "source": [
    "# Create a function to pull immediate (latest) data points for any desired metrics you query\n",
    "def immediate (sg: Subgrounds, fpath: FieldPath):\n",
    "    data = sg.execute(sg.mk_request([fpath]))\n",
    "    return fpath.extract_data(data)[0]"
   ],
   "metadata": {
    "collapsed": false,
    "pycharm": {
     "name": "#%%\n"
    }
   }
  },
  {
   "cell_type": "code",
   "execution_count": 12,
   "outputs": [],
   "source": [
    "protocol_metrics_1year = klimaDAO.Query.protocolMetrics(\n",
    "    orderBy = klimaDAO.ProtocolMetric.timestamp,\n",
    "    orderDirection = 'desc',\n",
    "    first = 365\n",
    ")\n"
   ],
   "metadata": {
    "collapsed": false,
    "pycharm": {
     "name": "#%%\n"
    }
   }
  },
  {
   "cell_type": "code",
   "execution_count": 13,
   "outputs": [],
   "source": [
    "last_metric = klimaDAO.Query.protocolMetrics(\n",
    "    orderBy = klimaDAO.ProtocolMetric.timestamp,\n",
    "    orderDirection = 'desc',\n",
    "    first = 1\n",
    ")\n"
   ],
   "metadata": {
    "collapsed": false,
    "pycharm": {
     "name": "#%%\n"
    }
   }
  },
  {
   "cell_type": "markdown",
   "source": [
    "## Now we are ready to interface our Subgrounds layer with the web app layer!"
   ],
   "metadata": {
    "collapsed": false,
    "pycharm": {
     "name": "#%% md\n"
    }
   }
  },
  {
   "cell_type": "markdown",
   "source": [
    "### Steps:\n",
    "- Import the Subgrounds fields and queries - Everything we created in the subgrounds layer\n",
    "- Import dash core components - Library of core dash components\n",
    "- Import dash bootstrap components - Library of standard bootstrap styling components for dash\n",
    "- Import dash plotly components - Library of data visualization components"
   ],
   "metadata": {
    "collapsed": false,
    "pycharm": {
     "name": "#%% md\n"
    }
   }
  },
  {
   "cell_type": "code",
   "execution_count": 14,
   "outputs": [],
   "source": [
    "import dash\n",
    "import dash_bootstrap_components as dbc\n",
    "from dash import html\n",
    "from subgrounds.dash_wrappers import Graph\n",
    "from subgrounds.plotly_wrappers import Figure, Scatter, Bar, Figure\n",
    "from millify import millify"
   ],
   "metadata": {
    "collapsed": false,
    "pycharm": {
     "name": "#%%\n"
    }
   }
  },
  {
   "cell_type": "code",
   "execution_count": 16,
   "outputs": [
    {
     "name": "stderr",
     "output_type": "stream",
     "text": [
      "/Users/tachikoma000/.local/share/virtualenvs/subgrounds_app_demo-UbIKUZWV/lib/python3.10/site-packages/werkzeug/serving.py:700: ResourceWarning:\n",
      "\n",
      "unclosed <socket.socket fd=80, family=AddressFamily.AF_INET, type=SocketKind.SOCK_STREAM, proto=0, laddr=('0.0.0.0', 0)>\n",
      "\n"
     ]
    },
    {
     "data": {
      "text/plain": "<IPython.lib.display.IFrame at 0x11c2b39d0>",
      "text/html": "\n        <iframe\n            width=\"100%\"\n            height=\"650\"\n            src=\"http://127.0.0.1:8091/\"\n            frameborder=\"0\"\n            allowfullscreen\n            \n        ></iframe>\n        "
     },
     "metadata": {},
     "output_type": "display_data"
    }
   ],
   "source": [
    "from jupyter_dash import JupyterDash\n",
    "\n",
    "# dashboard\n",
    "app = JupyterDash(__name__)\n",
    "app.layout = html.Div([\n",
    "    html.H4('Market Cap'),\n",
    "    html.Div([\n",
    "        Graph(\n",
    "            Figure(\n",
    "                subgrounds=sg,\n",
    "                traces=[\n",
    "                    Scatter(\n",
    "                        name='Market Cap',\n",
    "                        x = protocol_metrics_1year.datetime,\n",
    "                        y = protocol_metrics_1year.marketCap,\n",
    "                        stackgroup='one'\n",
    "                    )\n",
    "                ]\n",
    "            )\n",
    "        )\n",
    "    ])\n",
    "])\n",
    "app.run_server(mode='inline', port = 8091, dev_tools_ui=True, dev_tools_hot_reload=True, threaded=True)"
   ],
   "metadata": {
    "collapsed": false,
    "pycharm": {
     "name": "#%%\n"
    }
   }
  },
  {
   "cell_type": "markdown",
   "source": [
    "### Now let's build an app!"
   ],
   "metadata": {
    "collapsed": false,
    "pycharm": {
     "name": "#%% md\n"
    }
   }
  },
  {
   "cell_type": "markdown",
   "source": [
    "#### Steps\n",
    "- Create your Subgrounds layer in a separate py file: This is where you interface with the subgraph, create transformations and define your query types\n",
    "- Create your app file: This is where you construct your dashboard and insert into an app container\n"
   ],
   "metadata": {
    "collapsed": false,
    "pycharm": {
     "name": "#%% md\n"
    }
   }
  },
  {
   "cell_type": "markdown",
   "source": [
    "### Follow me!"
   ],
   "metadata": {
    "collapsed": false,
    "pycharm": {
     "name": "#%% md\n"
    }
   }
  },
  {
   "cell_type": "code",
   "execution_count": null,
   "outputs": [],
   "source": [],
   "metadata": {
    "collapsed": false,
    "pycharm": {
     "name": "#%%\n"
    }
   }
  }
 ],
 "metadata": {
  "kernelspec": {
   "display_name": "Python 3",
   "language": "python",
   "name": "python3"
  },
  "language_info": {
   "codemirror_mode": {
    "name": "ipython",
    "version": 2
   },
   "file_extension": ".py",
   "mimetype": "text/x-python",
   "name": "python",
   "nbconvert_exporter": "python",
   "pygments_lexer": "ipython2",
   "version": "2.7.6"
  }
 },
 "nbformat": 4,
 "nbformat_minor": 0
}